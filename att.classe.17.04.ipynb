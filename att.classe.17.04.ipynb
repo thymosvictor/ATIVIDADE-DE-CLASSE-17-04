{
 "cells": [
  {
   "cell_type": "code",
   "execution_count": 1,
   "metadata": {},
   "outputs": [],
   "source": [
    "ano = int( input('Digite o ano de fabricação:'))"
   ]
  },
  {
   "cell_type": "code",
   "execution_count": 2,
   "metadata": {},
   "outputs": [],
   "source": [
    "preco = float( input('Digite o preço do carro em R$:'))"
   ]
  },
  {
   "cell_type": "code",
   "execution_count": 18,
   "metadata": {},
   "outputs": [],
   "source": [
    "if ano < 1990:\n",
    "    imposto = float(preco * 1.5 / 100)\n",
    "else: \n",
    "    imposto = float(preco * 1 /100)"
   ]
  },
  {
   "cell_type": "code",
   "execution_count": 19,
   "metadata": {},
   "outputs": [
    {
     "name": "stdout",
     "output_type": "stream",
     "text": [
      "O carro foi fabricado em 1997 , e custou R$ 20000.0 , portanto o imposto será de R$ 200.0 .\n"
     ]
    }
   ],
   "source": [
    "print( 'O carro foi fabricado em', ano , ', e custou R$' , preco , ', portanto o imposto será de R$' , imposto , '.')"
   ]
  },
  {
   "cell_type": "markdown",
   "metadata": {},
   "source": [
    "ano = int( input('Digite o ano de fabricação:'))\n",
    "preco = float( input('Digite o preço do carro em R$:'))\n",
    "\n",
    "if ano < 1990:\n",
    "    imposto = float(preco * 1.5 / 100)\n",
    "else: \n",
    "    imposto = float(preco * 1 /100)\n",
    "\n",
    "print( 'O carro foi fabricado em', ano , ', e custou R$' , preco , ', portanto o imposto será de R$' , imposto , '.')\n"
   ]
  },
  {
   "cell_type": "code",
   "execution_count": 36,
   "metadata": {},
   "outputs": [],
   "source": [
    "codigo = int(input('digite o codigo do cargo:'))"
   ]
  },
  {
   "cell_type": "code",
   "execution_count": 21,
   "metadata": {},
   "outputs": [],
   "source": [
    "salario = float(input('digite o salario do funcionario:'))"
   ]
  },
  {
   "cell_type": "code",
   "execution_count": 37,
   "metadata": {},
   "outputs": [],
   "source": [
    "if codigo == 101:\n",
    "    novoSalario = salario * 1.1\n",
    "\n",
    "elif codigo == 102:\n",
    "    novoSalario = salario * 1.2\n",
    "\n",
    "elif codigo == 103:\n",
    "    novoSalario = salario * 1.3\n",
    "\n",
    "else:\n",
    "    novoSalario = salario * 1.4"
   ]
  },
  {
   "cell_type": "code",
   "execution_count": 39,
   "metadata": {},
   "outputs": [],
   "source": [
    "dif = novoSalario - salario"
   ]
  },
  {
   "cell_type": "code",
   "execution_count": 40,
   "metadata": {},
   "outputs": [
    {
     "name": "stdout",
     "output_type": "stream",
     "text": [
      "o funcionario recebia R$ 20000.0 , agora recebe R$ 28000.0 tendo ganhado portanto um aumento de R$ 8000.0 .\n"
     ]
    }
   ],
   "source": [
    "print('o funcionario recebia R$' , salario , ', agora recebe R$', novoSalario ,'tendo ganhado portanto um aumento de R$', dif, '.')"
   ]
  }
 ],
 "metadata": {
  "kernelspec": {
   "display_name": "Python 3",
   "language": "python",
   "name": "python3"
  },
  "language_info": {
   "codemirror_mode": {
    "name": "ipython",
    "version": 3
   },
   "file_extension": ".py",
   "mimetype": "text/x-python",
   "name": "python",
   "nbconvert_exporter": "python",
   "pygments_lexer": "ipython3",
   "version": "3.11.4"
  }
 },
 "nbformat": 4,
 "nbformat_minor": 2
}
